{
 "cells": [
  {
   "cell_type": "code",
   "execution_count": 1,
   "id": "4f45c7ad-3e1a-4751-ab2d-f901fab0931a",
   "metadata": {},
   "outputs": [],
   "source": [
    "from skimage import io\n",
    "from skimage.color import rgb2gray\n",
    "from skimage import draw\n",
    "import numpy as np\n",
    "from typing import Tuple, List, Annotated\n",
    "import math\n",
    "import cv2\n",
    "import operator"
   ]
  },
  {
   "cell_type": "code",
   "execution_count": 2,
   "id": "0e04fdaa-01f3-414c-8b7b-8c9e075cfcc0",
   "metadata": {},
   "outputs": [],
   "source": [
    "# Given an index of a pixel, a measurement and a theta, return the endpoint\n",
    "def get_endpoint(position: Tuple[int, int], measurement: float, theta: float, map_shape: Tuple[int, int]):\n",
    "    endpoint = (\n",
    "        math.floor(position[0] + measurement * math.cos(math.radians(theta))),\n",
    "        math.floor(position[1] + measurement * math.sin(math.radians(theta)))\n",
    "    )\n",
    "\n",
    "    # Sometimes, we get a coordinate endpoint == the shape of the field\n",
    "    # which results in out of range indexing, even though we are using math.floor() in the \n",
    "    # above. Here, we prevent that by setting it to max dimension - 1\n",
    "\n",
    "    if endpoint[1] >= map_shape[1]:\n",
    "        endpoint = (endpoint[0], map_shape[1] - 1)\n",
    "\n",
    "    if endpoint[0] >= map_shape[0]:\n",
    "        endpoint = (map_shape[0] - 1, endpoint[1])\n",
    "\n",
    "    return endpoint"
   ]
  },
  {
   "cell_type": "code",
   "execution_count": 3,
   "id": "8415aac7-d09b-4ab7-bc5a-dfe7959b5b0a",
   "metadata": {},
   "outputs": [],
   "source": [
    "# This draws a line on the given map, and returns the distance to the endpoint of the line => the measurment \n",
    "def draw_line(robot_pose: Tuple[int, int, int], map: np.ndarray, color: float = 0.5) -> float:\n",
    "    \n",
    "    max_ray_range = (12*100)/4\n",
    "    endpoint = get_endpoint(robot_pose[0:2], max_ray_range, robot_pose[2], map.shape)\n",
    "\n",
    "    indices = draw.line_aa(robot_pose[0], robot_pose[1], endpoint[0], endpoint[1])\n",
    "    valid_row = indices[0][indices[0] < map.shape[0]]\n",
    "    valid_col = indices[1][indices[1] < map.shape[1]]\n",
    "    \n",
    "    if valid_row.shape[0] > valid_col.shape[0]: valid_row = valid_row[:valid_col.shape[0]]\n",
    "    else: valid_col = valid_col[:valid_row.shape[0]]\n",
    "\n",
    "    distance = None\n",
    "\n",
    "    for row, col in zip(valid_row, valid_col):\n",
    "        if map[row, col] == 0.0:\n",
    "            distance = math.sqrt( (robot_pose[0] - row)**2 + (robot_pose[1] - col)**2 )\n",
    "            break\n",
    "        else: map[row, col] = color\n",
    "\n",
    "    if distance is None: distance = math.sqrt( (robot_pose[0] - valid_row[-1])**2 + (robot_pose[1] - valid_col[-1])**2 )\n",
    "    return distance"
   ]
  },
  {
   "cell_type": "code",
   "execution_count": 105,
   "id": "4fac4756-fa23-430a-9a50-b1c216f3da62",
   "metadata": {},
   "outputs": [],
   "source": [
    "# This draws the sensor rays with an opening angle 250, and returns a list of two lists of measurements\n",
    "# One for the measurements of the 125 degrees to the right, and one for the measurments of the 125 degrees to the left\n",
    "# This is used later for requirement 2 => providing us with an actual reasonable sample of measurements to work with.\n",
    "def draw_sensor_rays(robot_pose: Tuple[int, int], map: np.ndarray) -> Annotated[List[List[float]], 3]:\n",
    "\n",
    "    distances_exact_pose = []\n",
    "    distances_right = []\n",
    "    distances_left  = []\n",
    "\n",
    "    # Drawing the ray cast at the robot's exact pose angle\n",
    "    distances_exact_pose.append(draw_line(robot_pose, map))\n",
    "    \n",
    "    # Drawing rays to the right and the left of the robot (125 right, and 125 left)\n",
    "    for i in range(2, 125, 2): distances_right.append(draw_line((robot_pose[0], robot_pose[1], robot_pose[2]+i), map))\n",
    "    for i in range(2, 125, 2): distances_left.append(draw_line((robot_pose[0], robot_pose[1], robot_pose[2]-i), map))\n",
    "\n",
    "    # Draw the disk representing the robot\n",
    "    radius = 10\n",
    "    disk_coordinates = draw.disk(robot_pose[:2], radius)[:]\n",
    "    valid_row = disk_coordinates[0][disk_coordinates[0] < map.shape[0]]\n",
    "    valid_col = disk_coordinates[1][disk_coordinates[1] < map.shape[1]]\n",
    "    for row, col in zip(valid_row, valid_col): map[row, col] = 0.0\n",
    "\n",
    "    # Drawing a line to indicate the robot's angle\n",
    "    line_end = get_endpoint(position=robot_pose[:2], measurement=radius+10, theta=robot_pose[2], map_shape=map.shape)\n",
    "    cv2.line(map, robot_pose[:2][::-1], line_end[::-1], 0.1, 3)\n",
    "\n",
    "    return [distances_exact_pose, distances_right, distances_left]"
   ]
  },
  {
   "cell_type": "code",
   "execution_count": 106,
   "id": "ba392bcd-8afe-44e8-9a0e-367a0908e0e3",
   "metadata": {},
   "outputs": [],
   "source": [
    "def read_binary_map(path: str, reverse: bool = False) -> np.ndarray:\n",
    "    map = rgb2gray(io.imread(path))\n",
    "    binary_threshold = 0.5\n",
    "\n",
    "    map[map < binary_threshold] = 0.0\n",
    "    map[map > binary_threshold] = 1.0\n",
    "\n",
    "    if reverse: map = 1.0 - map\n",
    "    return map"
   ]
  },
  {
   "cell_type": "code",
   "execution_count": 107,
   "id": "49fc4c1c-8860-42c6-83bf-7a9b5d06fb36",
   "metadata": {},
   "outputs": [
    {
     "data": {
      "text/plain": [
       "<matplotlib.image.AxesImage at 0x7fe45fdebf90>"
      ]
     },
     "execution_count": 107,
     "metadata": {},
     "output_type": "execute_result"
    },
    {
     "data": {
      "image/png": "[encoded data removed]",
      "text/plain": [
       "<Figure size 640x480 with 1 Axes>"
      ]
     },
     "metadata": {},
     "output_type": "display_data"
    }
   ],
   "source": [
    "# Requirement 1\n",
    "req1_map = read_binary_map('Map.jpg')\n",
    "robot_pose = (175, 75, 180)\n",
    "req1_measurements = draw_sensor_rays(robot_pose, req1_map)\n",
    "io.imshow(req1_map)"
   ]
  },
  {
   "cell_type": "code",
   "execution_count": 102,
   "id": "6bd6fb9e-f54c-4377-8885-b8f7699a04a7",
   "metadata": {},
   "outputs": [],
   "source": [
    "def fill_obstacles(map: np.ndarray) -> np.ndarray:\n",
    "\n",
    "    filled_map = map.copy()\n",
    "    \n",
    "    contours, _ = cv2.findContours(np.array(filled_map, np.uint8), cv2.RETR_TREE, cv2.CHAIN_APPROX_SIMPLE)\n",
    "    for contour in contours:\n",
    "        \n",
    "        # Approximate the contour to check for rectangles\n",
    "        perimeter = cv2.arcLength(contour, True)\n",
    "        approx = cv2.approxPolyDP(contour, 0.04 * perimeter, True)\n",
    "        \n",
    "        # If the contour has 4 corners, draw rectangle\n",
    "        if len(approx) == 4:\n",
    "\n",
    "            # Getting the bounding rectangle\n",
    "            x, y, w, h = cv2.boundingRect(contour)\n",
    "\n",
    "            # Here, we skip the contours that represents the boundaries of the whole map with a condition:\n",
    "            # if the width or the hieght is equal to or exceeds the width or the height of the map, respectively.\n",
    "            if (w >= 0.9 * filled_map.shape[1]) or (h >= 0.9 * filled_map.shape[0]): continue\n",
    "\n",
    "            # Drawing the filled rectangle \n",
    "            cv2.rectangle(filled_map, (x, y), (x + w, y + h), 1, -1)\n",
    "\n",
    "    return filled_map"
   ]
  },
  {
   "cell_type": "code",
   "execution_count": 8,
   "id": "7cb5138a-b4eb-4255-87cf-65883e7294c0",
   "metadata": {},
   "outputs": [],
   "source": [
    "def generate_likelihood_field(map: np.ndarray, standard_deviation : float = 1.0) -> np.ndarray:\n",
    "\n",
    "    # Gaussian equation evaluation.\n",
    "    likelihood = lambda std, distance: (1 / (math.sqrt(2*math.pi)*std)) * math.exp((-1 * (distance**2))/(2*(std**2))) if (std != 0) \\\n",
    "    else (1 if distance == 0 else 0)\n",
    "\n",
    "    # This is the field that will be returned\n",
    "    likelihood_field = map.copy()\n",
    "\n",
    "    # Getting coordinates of obstacles and non-obstacles\n",
    "    obstacles = np.argwhere(map == 1.0)\n",
    "    non_obstacles = np.argwhere(map == 0.0)\n",
    "    \n",
    "    # Updating likelihood for non-obstacles\n",
    "    for non_obstacle in non_obstacles: likelihood_field[non_obstacle[0], non_obstacle[1]] = likelihood(standard_deviation, np.amin(np.linalg.norm(non_obstacle -  obstacles, axis=1)))\n",
    "    \n",
    "    # Filling the obstacles in the map before updating the likelihood of the obstacle points\n",
    "    # This is done here instead of above before calculating distances for non-obstacles, because it'd be inefficient\n",
    "    # and useless.\n",
    "    # The number of distances calculated for each non-obstacle to the obstacle points will increase given that we are filling\n",
    "    # those obstacles. We only care about the distance to the nearest obstacle, which by definition lies on the boundary of the obstacle\n",
    "    filled_map = fill_obstacles(map)\n",
    "    obstacles = np.argwhere(filled_map == 1.0)\n",
    "\n",
    "    for obstacle in obstacles: likelihood_field[obstacle[0], obstacle[1]] = likelihood(standard_deviation, 0)\n",
    "\n",
    "    return likelihood_field"
   ]
  },
  {
   "cell_type": "code",
   "execution_count": 27,
   "id": "16a3fcfd-465a-4a15-a05b-65391b536a6b",
   "metadata": {},
   "outputs": [],
   "source": [
    "# Measurements are given in pixels, instead of the meters/cms value of pixels \n",
    "def generate_probability_map(measurements: Annotated[List[List[float]], 2], map: np.ndarray, likelihood_field: np.ndarray) -> np.ndarray:\n",
    "\n",
    "    ops = [operator.add, operator.sub]\n",
    "    \n",
    "    probability_map = map.copy()\n",
    "\n",
    "    # Looping over all potential positions in the map\n",
    "    for potential_position in np.argwhere(map == 0.0):\n",
    "\n",
    "        max_probability = float(\"-inf\")\n",
    "\n",
    "        # Trying all thetas with step 5°\n",
    "        #for theta in range(0, 5, 360):\n",
    "        theta = 45 \n",
    "        # Initializing the product with the likelihood of the endpoint at the angle of the robot's pose\n",
    "        endpoint_at_exact_angle = get_endpoint(potential_position, measurements[0][0], theta, map_shape=likelihood_field.shape)\n",
    "        likelihood_product = likelihood_field[endpoint_at_exact_angle[0], endpoint_at_exact_angle[1]]\n",
    "\n",
    "        for i in range(1, 3, 1):\n",
    "            for j in range(len(measurements[i])):\n",
    "\n",
    "                # Obtaining the endpoint given the position, measurement, theta±x where x is from the range 2,4,..,124\n",
    "                endpoint = get_endpoint(potential_position, measurements[i][j], ops[i-1](theta,(i*2 + 2)), map_shape=likelihood_field.shape)\n",
    "                likelihood_product *= likelihood_field[endpoint[0], endpoint[1]]\n",
    "\n",
    "        # If this is greater than the greater product for a theta we have come across so far\n",
    "        if likelihood_product > max_probability: max_probability = likelihood_product\n",
    "\n",
    "        # Updating the pixel value with the maximum probability\n",
    "        probability_map[potential_position[0], potential_position[1]] = max_probability\n",
    "\n",
    "    return probability_map"
   ]
  },
  {
   "cell_type": "code",
   "execution_count": 10,
   "id": "0920b06f-27b1-4af6-9497-f53d3b3c85e7",
   "metadata": {},
   "outputs": [
    {
     "data": {
      "text/plain": [
       "<matplotlib.image.AxesImage at 0x7fe467dcc450>"
      ]
     },
     "execution_count": 10,
     "metadata": {},
     "output_type": "execute_result"
    },
    {
     "data": {
      "image/png": "[encoded data removed]",
      "text/plain": [
       "<Figure size 640x480 with 1 Axes>"
      ]
     },
     "metadata": {},
     "output_type": "display_data"
    }
   ],
   "source": [
    "# Requirement 2\n",
    "# Getting the likelihood field then normalizing it.\n",
    "# Note: normalizing the likelihood field won't mess up any results, since when it is utilized, it will be in the context\n",
    "# of probabilities. As long as the values relative to each other are the same, this won't have any effect.\n",
    "# Also, this helps with high standard deviation, when the data has a low range, and the skimage doesn't show the image correctly.\n",
    "req2_map = read_binary_map('Map.jpg', True)\n",
    "likelihood_field = generate_likelihood_field(req2_map, 1)\n",
    "likelihood_field = likelihood_field / likelihood_field.max()\n",
    "io.imshow(likelihood_field)"
   ]
  },
  {
   "cell_type": "code",
   "execution_count": 28,
   "id": "accf8731-4445-4f23-af76-2216766e4a33",
   "metadata": {},
   "outputs": [],
   "source": [
    "prob_map = generate_probability_map(measurements=req1_measurements, map=fill_obstacles(req2_map), likelihood_field=likelihood_field)"
   ]
  },
  {
   "cell_type": "code",
   "execution_count": 30,
   "id": "eb94ee30-6a37-4249-96ee-22574c36d27c",
   "metadata": {},
   "outputs": [
    {
     "data": {
      "text/plain": [
       "<matplotlib.image.AxesImage at 0x7fe46481ded0>"
      ]
     },
     "execution_count": 30,
     "metadata": {},
     "output_type": "execute_result"
    },
    {
     "data": {
      "image/png": "[encoded data removed]",
      "text/plain": [
       "<Figure size 640x480 with 1 Axes>"
      ]
     },
     "metadata": {},
     "output_type": "display_data"
    }
   ],
   "source": [
    "io.imshow(prob_map)"
   ]
  },
  {
   "cell_type": "code",
   "execution_count": 26,
   "id": "31c74d70-da07-4fad-9851-f57637f7b85c",
   "metadata": {},
   "outputs": [],
   "source": [
    "io.imsave('test.jpg', (req1_map * 255).astype(np.uint8))"
   ]
  },
  {
   "cell_type": "code",
   "execution_count": null,
   "id": "99b36961-83c8-4afd-b176-ac1572411378",
   "metadata": {},
   "outputs": [],
   "source": []
  }
 ],
 "metadata": {
  "kernelspec": {
   "display_name": "Python 3 (ipykernel)",
   "language": "python",
   "name": "python3"
  },
  "language_info": {
   "codemirror_mode": {
    "name": "ipython",
    "version": 3
   },
   "file_extension": ".py",
   "mimetype": "text/x-python",
   "name": "python",
   "nbconvert_exporter": "python",
   "pygments_lexer": "ipython3",
   "version": "3.11.6"
  }
 },
 "nbformat": 4,
 "nbformat_minor": 5
}
